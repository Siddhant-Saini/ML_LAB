{
 "cells": [
  {
   "cell_type": "code",
   "execution_count": 28,
   "id": "dcb61940",
   "metadata": {},
   "outputs": [
    {
     "name": "stdout",
     "output_type": "stream",
     "text": [
      "[[0 1 2]\n",
      " [3 4 5]\n",
      " [6 7 8]]\n"
     ]
    }
   ],
   "source": [
    "'''1. Convert a 1-D array into a 2-D array with 3 rows.\n",
    "Start with:\n",
    "Assign-1 = np.array([0, 1, 2, 3, 4, 5, 6, 7, 8])\n",
    "Desired output:\n",
    "[[ 0, 1, 2]\n",
    "[3, 4, 5]\n",
    "[6, 7, 8]]\n",
    "'''\n",
    "import numpy as np\n",
    "a= np.array([0, 1, 2, 3, 4, 5, 6, 7, 8])\n",
    "a= a.reshape(3,3)\n",
    "print(a)\n"
   ]
  },
  {
   "cell_type": "code",
   "execution_count": 73,
   "id": "fa790e56",
   "metadata": {},
   "outputs": [
    {
     "name": "stdout",
     "output_type": "stream",
     "text": [
      "[ 0 -1  2 -1  4 -1  6 -1  8 -1]\n"
     ]
    }
   ],
   "source": [
    "'''2. Replace all odd numbers in the given array with -1\n",
    "Start with:\n",
    "Assign-2 = np.array([0, 1, 2, 3, 4, 5, 6, 7, 8, 9])\n",
    "Desired output:\n",
    "[ 0, -1, 2, -1, 4, -1, 6, -1, 8, -1]'''\n",
    "\n",
    "import numpy as np\n",
    "a= np.array([0, 1, 2, 3, 4, 5, 6, 7, 8, 9])\n",
    "a[a%2==1]= -1\n",
    "print(a)\n"
   ]
  },
  {
   "cell_type": "code",
   "execution_count": 34,
   "id": "aa0fd9fc",
   "metadata": {},
   "outputs": [
    {
     "name": "stdout",
     "output_type": "stream",
     "text": [
      "(array([1, 2, 4, 5, 6, 7, 8, 9]),)\n",
      "(array([0]),)\n"
     ]
    },
    {
     "data": {
      "text/plain": [
       "'i=0\\nfor i in x:\\n    for i in y:\\n        if(x[i]>y[i]):\\n            print(i)\\n        elif(x[i]==y[i]):\\n            print(i)\\n        i=i+1 '"
      ]
     },
     "execution_count": 34,
     "metadata": {},
     "output_type": "execute_result"
    }
   ],
   "source": [
    "'''3.Find the positions of:\n",
    "\n",
    "elements in x where its value is more than its corresponding element in y, and elements in x where its value is equals to its corresponding element in y.\n",
    "\n",
    "Start with these:\n",
    "x = np.array([21, 64, 86, 22, 74, 55, 81, 79, 90, 89]) \n",
    "y = np.array([21, 7, 3, 45, 10, 29, 55, 4, 37, 18])\n",
    "\n",
    "Desired output:\n",
    "(array([1, 2, 4, 5, 6, 7, 8, 9]),) and (array([0]),)'''\n",
    "\n",
    "import numpy as np\n",
    "x = np.array([21, 64, 86, 22, 74, 55, 81, 79, 90, 89]) \n",
    "y = np.array([21, 7, 3, 45, 10, 29, 55, 4, 37, 18])\n",
    "print(np.where(x>y))\n",
    "print(np.where(x==y))\n",
    "\n",
    "'''i=0\n",
    "for i in x:\n",
    "    for i in y:\n",
    "        if(x[i]>y[i]):\n",
    "            print(i)\n",
    "        elif(x[i]==y[i]):\n",
    "            print(i)\n",
    "        i=i+1 '''         "
   ]
  },
  {
   "cell_type": "code",
   "execution_count": 31,
   "id": "c9b893a2",
   "metadata": {},
   "outputs": [
    {
     "name": "stdout",
     "output_type": "stream",
     "text": [
      "[[ 0  1  2  3]\n",
      " [20 21 22 23]\n",
      " [40 41 42 43]\n",
      " [60 61 62 63]\n",
      " [80 81 82 83]]\n"
     ]
    }
   ],
   "source": [
    "'''4. Extract the first four columns of this 2-D array.\n",
    "Start with this: \n",
    "Assign-4= np.arange(100).reshape(5,-1)\n",
    "Desired output:\n",
    "[[ 0 1 2 3]\n",
    "[20 21 22 23]\n",
    "[40 41 42 43]\n",
    "[60 61 62 63]\n",
    "[80 81 82 83]]\n",
    "'''\n",
    "import numpy as np\n",
    "a= np.arange(100).reshape(5,-1)\n",
    "a=a[:,[0,1,2,3]]\n",
    "#a=a[:,:4]\n",
    "print(a)"
   ]
  },
  {
   "cell_type": "code",
   "execution_count": 77,
   "id": "de48b1e2",
   "metadata": {},
   "outputs": [
    {
     "name": "stdout",
     "output_type": "stream",
     "text": [
      "[34 36 39 37 32 32 35 35 33 37]\n"
     ]
    }
   ],
   "source": [
    "'''1. Generate a 1-D array of 10 random integers. Each integer should be a number between 30 and 40 (inclusive).\n",
    "Sample of desired output: \n",
    "[36, 30, 36, 38, 31, 35, 36, 30, 32, 34]'''\n",
    "\n",
    "import numpy as np\n",
    "#a = np.random.randint(low=30 ,high=40 ,size=10)\n",
    "a = np.random.randint(30,40,10)\n",
    "\n",
    "print(a)"
   ]
  },
  {
   "cell_type": "code",
   "execution_count": 7,
   "id": "dfd3bfee",
   "metadata": {},
   "outputs": [
    {
     "name": "stdout",
     "output_type": "stream",
     "text": [
      "[[ 8 10 13]\n",
      " [ 8 10 12]\n",
      " [ 8 10 13]]\n",
      "[[-6 -6 -7]\n",
      " [ 0  0  0]\n",
      " [ 6  6  7]]\n"
     ]
    },
    {
     "data": {
      "text/plain": [
       "array([31, 30, 31])"
      ]
     },
     "execution_count": 7,
     "metadata": {},
     "output_type": "execute_result"
    }
   ],
   "source": [
    "'''\n",
    " Consider the following matrices :\n",
    "A= ((1, 2, 3), (4, 5, 6), (7, 8, 10)) and   B = ((7, 8, 10) ,(4, 5, 6), (1, 2, 3))\n",
    "Write a python program to perform the following using Numeric Python (numpy).\n",
    "i) Add and Subtract of the Matrix A and B, print the resultant matrix C for add and E for subtract.\n",
    "ii) Compute the sum of all elements of Matrix A, sum of each column of Matrix B and sum of each row of Matrix C\n",
    "iii) Product of two matrices A and B, and print the resultant matrix D\n",
    "iv) Sort the elements of resultant matrix C and print the resultant Matrix E.                           \n",
    "v) Transpose the Matrix E and print the result'''\n",
    "\n",
    "import numpy as np\n",
    "A= np.array([[1, 2, 3], [4, 5, 6], [7, 8, 10]])\n",
    "B = np.array([[7, 8, 10] ,[4, 5, 6], [1, 2, 3]])\n",
    "\n",
    "C= A+B\n",
    "E= A-B\n",
    "print(C)\n",
    "print(E)\n",
    "B.sum(axis=0)\n",
    "C.sum(axis=1)"
   ]
  },
  {
   "cell_type": "code",
   "execution_count": 5,
   "id": "83c7bd2e",
   "metadata": {},
   "outputs": [
    {
     "ename": "NameError",
     "evalue": "name 'B' is not defined",
     "output_type": "error",
     "traceback": [
      "\u001b[0;31m---------------------------------------------------------------------------\u001b[0m",
      "\u001b[0;31mNameError\u001b[0m                                 Traceback (most recent call last)",
      "\u001b[0;32m/tmp/ipykernel_9680/141710108.py\u001b[0m in \u001b[0;36m<module>\u001b[0;34m\u001b[0m\n\u001b[0;32m----> 1\u001b[0;31m \u001b[0mB\u001b[0m\u001b[0;34m.\u001b[0m\u001b[0msum\u001b[0m\u001b[0;34m(\u001b[0m\u001b[0maxis\u001b[0m\u001b[0;34m=\u001b[0m\u001b[0;36m0\u001b[0m\u001b[0;34m)\u001b[0m\u001b[0;34m\u001b[0m\u001b[0;34m\u001b[0m\u001b[0m\n\u001b[0m\u001b[1;32m      2\u001b[0m \u001b[0mC\u001b[0m\u001b[0;34m.\u001b[0m\u001b[0msum\u001b[0m\u001b[0;34m(\u001b[0m\u001b[0maxis\u001b[0m\u001b[0;34m=\u001b[0m\u001b[0;36m1\u001b[0m\u001b[0;34m)\u001b[0m\u001b[0;34m\u001b[0m\u001b[0;34m\u001b[0m\u001b[0m\n",
      "\u001b[0;31mNameError\u001b[0m: name 'B' is not defined"
     ]
    }
   ],
   "source": [
    "\n",
    "B.sum(axis=0)\n",
    "C.sum(axis=1)"
   ]
  },
  {
   "cell_type": "code",
   "execution_count": 90,
   "id": "6b80fdde",
   "metadata": {},
   "outputs": [
    {
     "name": "stdout",
     "output_type": "stream",
     "text": [
      "[[ 7 16 30]\n",
      " [16 25 36]\n",
      " [ 7 16 30]]\n"
     ]
    }
   ],
   "source": [
    "D=A*B\n",
    "print(D)"
   ]
  },
  {
   "cell_type": "code",
   "execution_count": 91,
   "id": "86d6aca9",
   "metadata": {},
   "outputs": [
    {
     "name": "stdout",
     "output_type": "stream",
     "text": [
      "[[ 7  8 10]\n",
      " [ 4  5  6]\n",
      " [ 1  2  3]]\n",
      "[[-6 -6 -7]\n",
      " [ 0  0  0]\n",
      " [ 6  6  7]]\n"
     ]
    }
   ],
   "source": [
    "B.sort()\n",
    "print(B)\n",
    "print(E)"
   ]
  },
  {
   "cell_type": "code",
   "execution_count": 72,
   "id": "640353cd",
   "metadata": {},
   "outputs": [
    {
     "name": "stdout",
     "output_type": "stream",
     "text": [
      "[[-6 -6 -7]\n",
      " [ 0  0  0]\n",
      " [ 6  6  7]]\n"
     ]
    }
   ],
   "source": [
    "E.transpose()\n",
    "print(E)"
   ]
  },
  {
   "cell_type": "code",
   "execution_count": null,
   "id": "b621cf36",
   "metadata": {},
   "outputs": [],
   "source": []
  }
 ],
 "metadata": {
  "kernelspec": {
   "display_name": "Python 3 (ipykernel)",
   "language": "python",
   "name": "python3"
  },
  "language_info": {
   "codemirror_mode": {
    "name": "ipython",
    "version": 3
   },
   "file_extension": ".py",
   "mimetype": "text/x-python",
   "name": "python",
   "nbconvert_exporter": "python",
   "pygments_lexer": "ipython3",
   "version": "3.9.13"
  }
 },
 "nbformat": 4,
 "nbformat_minor": 5
}
